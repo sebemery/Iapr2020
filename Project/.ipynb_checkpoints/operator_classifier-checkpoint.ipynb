{
 "cells": [
  {
   "cell_type": "code",
   "execution_count": 114,
   "metadata": {},
   "outputs": [],
   "source": [
    "import os\n",
    "import math\n",
    "import numpy as np\n",
    "import skimage.io\n",
    "import matplotlib.pyplot as plt\n",
    "from skimage.filters import threshold_otsu\n",
    "from skimage.measure import find_contours\n",
    "from skimage.transform import rotate\n",
    "from scipy import ndimage as ndi\n",
    "\n",
    "from sklearn.model_selection import train_test_split,cross_val_score,GridSearchCV\n",
    "from sklearn.neighbors import KNeighborsClassifier\n",
    "from sklearn import metrics"
   ]
  },
  {
   "cell_type": "markdown",
   "metadata": {},
   "source": [
    "### Load data"
   ]
  },
  {
   "cell_type": "code",
   "execution_count": 52,
   "metadata": {},
   "outputs": [],
   "source": [
    "def rotate_operators(operators, nb_rotations) :\n",
    "    \"\"\"\n",
    "    Input : (1x5x40x40) array of five operators concatenated\n",
    "    Output : (Nx5x40x40)  N arrays of five operators where they have been rotated N times to reach 360\n",
    "    \"\"\"\n",
    "    #calculate the array of angles of rotations\n",
    "    angle = 360/nb_rotations\n",
    "    angles = np.linspace(angle,360-angle,nb_rotations-1)\n",
    "    \n",
    "    for a in angles :\n",
    "        operators_rotated = np.empty((1,5,40,40))\n",
    "        for idx,op in enumerate(operators[0]) :\n",
    "            # rotate operators with bi-cubic interpolation\n",
    "            operators_rotated[0,idx] = rotate(op,a,order =3)\n",
    "            # binarize the resulting rotated opearators\n",
    "            thresh = threshold_otsu(operators_rotated[0,idx])\n",
    "            operators_rotated[0,idx] = operators_rotated[0,idx]>thresh\n",
    "            operators_rotated[0,idx] = operators_rotated[0,idx].astype(float)\n",
    "        # concatenate the five operators rotated by a certain angle to the array\n",
    "        operators = np.concatenate([operators,operators_rotated],axis=0)\n",
    "    return operators"
   ]
  },
  {
   "cell_type": "code",
   "execution_count": 53,
   "metadata": {},
   "outputs": [],
   "source": [
    "def load_data(rotate=False,nb_rotation = 12) :\n",
    "    \"\"\"\n",
    "    Load the five operators mask (40x40) -> plus,equal,minus,div,mul\n",
    "    Output : (Nx5x40x40) array of operators :\n",
    "                If no operators rotation : N=1 (1x5x40x40) -> [[plus,equal,minus,div,mul]]\n",
    "                If operators are rotated : (Nx5x40x40) where N correspond to the number of rotation of each operator\n",
    "                                            N = 360/ nb_rotation\n",
    "    \"\"\"\n",
    "    \n",
    "    # Load operators\n",
    "    data_path = os.path.join('..\\data')\n",
    "    plus = skimage.io.imread(os.path.join(data_path, 'plus_bin.png'))\n",
    "    equal = skimage.io.imread(os.path.join(data_path, 'equal_bin.png'))\n",
    "    minus = skimage.io.imread(os.path.join(data_path, 'minus_bin.png'))\n",
    "    div = skimage.io.imread(os.path.join(data_path, 'div_bin.png'))\n",
    "    mul = skimage.io.imread(os.path.join(data_path, 'mul_bin.png'))\n",
    "    \n",
    "    # concatenate operators\n",
    "    \n",
    "    plus = np.expand_dims(plus,axis = 0)\n",
    "    equal = np.expand_dims(equal,axis = 0)\n",
    "    minus = np.expand_dims(minus,axis = 0)\n",
    "    div = np.expand_dims(div,axis = 0)\n",
    "    mul = np.expand_dims(mul,axis = 0)\n",
    "    \n",
    "    operators = np.concatenate([plus,equal,minus,div,mul], axis = 0)\n",
    "    operators = np.expand_dims(operators,axis = 0)\n",
    "    #rotation of the operators if true\n",
    "    if (rotate == True) :\n",
    "        operators = rotate_operators(operators,nb_rotation)\n",
    "        \n",
    "    return operators"
   ]
  },
  {
   "cell_type": "code",
   "execution_count": 54,
   "metadata": {},
   "outputs": [],
   "source": [
    "operators = load_data(rotate=True)"
   ]
  },
  {
   "cell_type": "code",
   "execution_count": null,
   "metadata": {},
   "outputs": [],
   "source": [
    "for n in range(operators.shape[0]) :\n",
    "    for idx,op in enumerate(operators[n]) :\n",
    "        plt.figure()\n",
    "        plt.imshow(op,cmap='gray')"
   ]
  },
  {
   "cell_type": "markdown",
   "metadata": {},
   "source": [
    "### Get features"
   ]
  },
  {
   "cell_type": "code",
   "execution_count": 93,
   "metadata": {},
   "outputs": [],
   "source": [
    "def Fourier_descriptors (operators,Nb_coeff) :\n",
    "    \"\"\"\n",
    "    Calculate the DFT of the operator's contour \n",
    "    Return the first N coefficient and the number of disjoint contours \n",
    "    \"\"\"\n",
    "    # get the contours\n",
    "    contour = find_contours(operators,0.2)\n",
    "    nb_contours = len(contour)\n",
    "    if (nb_contours == 1) :\n",
    "        contour = np.squeeze(np.asarray(contour))\n",
    "        contour_complex = np.empty(contour.shape[0], dtype=complex)\n",
    "        contour_complex.real = contour[:, 0]\n",
    "        contour_complex.imag = contour[:, 1]\n",
    "        fourier_result = np.fft.fft(contour_complex)\n",
    "        DFT = np.fft.fft(contour_complex)\n",
    "    if (nb_contours == 2) :\n",
    "        contour_concatenated = np.concatenate((contour[0],contour[1]), axis=0)\n",
    "        contour_complex = np.empty(contour_concatenated.shape[0], dtype=complex)\n",
    "        contour_complex.real = contour_concatenated[:, 1]\n",
    "        contour_complex.imag = contour_concatenated[:, 0]\n",
    "        DFT = np.fft.fft(contour_complex)\n",
    "    if (nb_contours == 3) :\n",
    "        contour_concatenated = np.concatenate((contour[0],contour[1],contour[2]), axis=0)\n",
    "        contour_complex = np.empty(contour_concatenated.shape[0], dtype=complex)\n",
    "        contour_complex.real = contour_concatenated[:, 1]\n",
    "        contour_complex.imag = contour_concatenated[:, 0]\n",
    "        DFT = np.fft.fft(contour_complex)\n",
    "    \n",
    "    return DFT[:Nb_coeff], nb_contours"
   ]
  },
  {
   "cell_type": "code",
   "execution_count": 143,
   "metadata": {},
   "outputs": [],
   "source": [
    "def get_features(operators,Nb_coeff,target =False ) :\n",
    "    \"\"\"\n",
    "    Input : (Nx5x40x40) arrays of operators \n",
    "    Output : (5Nx4) arrays of features and (5N) arrays of target\n",
    "            Features : First three features are ratio of the amplitude of fourier descriptor -> [A1/A2,A3/A2,A4/A2]\n",
    "                       Last features is the number of disjoint contour -> plus,minus,mul : 1, equal : 2, div :3\n",
    "    \"\"\"\n",
    "    \n",
    "    # initialize the arrrays\n",
    "    features = np.empty((operators.shape[0],5,4))\n",
    "    targets = np.empty((operators.shape[0],5))\n",
    "    print(operators.shape[0])\n",
    "    #Loop over the array of operators to get the features and targets\n",
    "    for N in range(operators.shape[0]) :\n",
    "        for idx,op in enumerate(operators[N]) :\n",
    "            # compute the features -> amplitude and first fourier descriptors excluded -> invariance in translation and rotation\n",
    "            coeff,nb_contours = Fourier_descriptors(op,Nb_coeff)\n",
    "            A1 = np.sqrt(coeff[1].real**2+coeff[1].imag**2)\n",
    "            A2 = np.sqrt(coeff[3].real**2+coeff[3].imag**2)\n",
    "            A3 = np.sqrt(coeff[4].real**2+coeff[4].imag**2)\n",
    "            A4 = np.sqrt(coeff[2].real**2+coeff[2].imag**2)\n",
    "            # compute ratios of Fourier descriptors -> scale invariant\n",
    "            coord_x = (A1/A4)\n",
    "            coord_y = (A2/A4)\n",
    "            coord_z = (A3/A4)\n",
    "            # concatenate the features \n",
    "            features[N,idx] = np.array([coord_x,coord_y,coord_z,nb_contours])\n",
    "            targets[N,idx] = idx\n",
    "    # reshape the arrays for the classification algorithm\n",
    "    features = np.reshape(features,(operators.shape[0]*5,4))\n",
    "    targets = np.reshape(targets,(operators.shape[0]*5))\n",
    "    if (target == False) :\n",
    "        return features\n",
    "    if(target == True) :\n",
    "        return features,targets"
   ]
  },
  {
   "cell_type": "code",
   "execution_count": 144,
   "metadata": {},
   "outputs": [
    {
     "name": "stdout",
     "output_type": "stream",
     "text": [
      "12\n",
      "[[5.43292268e+00 2.40633314e+01 5.52076915e-01 1.00000000e+00]\n",
      " [3.71379313e-01 1.57825207e-01 8.86523397e-03 2.00000000e+00]\n",
      " [3.62054098e+01 1.85186492e+00 7.85355749e-01 1.00000000e+00]\n",
      " [2.07779396e-01 1.97150854e-01 2.31720255e-01 3.00000000e+00]\n",
      " [2.43614830e+00 1.87762622e+00 1.13185093e+00 1.00000000e+00]\n",
      " [8.67808411e+00 2.93886608e+01 6.50461044e-01 1.00000000e+00]\n",
      " [4.17709153e-01 1.49917346e-01 1.19057645e-02 2.00000000e+00]\n",
      " [3.22610580e+01 7.67515565e-01 6.83003490e-01 1.00000000e+00]\n",
      " [2.37099992e+00 1.38699974e+00 8.66916092e-01 3.00000000e+00]\n",
      " [4.45255541e+00 1.23526012e+00 1.09546915e+00 1.00000000e+00]\n",
      " [6.42443597e+00 2.72985700e+01 5.46241792e-01 1.00000000e+00]\n",
      " [4.39981657e-01 1.24335226e-01 6.29374782e-03 2.00000000e+00]\n",
      " [4.76339394e+01 8.31690219e-01 6.09643661e-01 1.00000000e+00]\n",
      " [1.86555111e-01 1.16408943e-01 1.22536812e-01 3.00000000e+00]\n",
      " [1.76148940e+00 2.07362715e-01 1.25254949e-01 1.00000000e+00]\n",
      " [3.34607323e+00 2.28402198e+01 4.75171284e-01 1.00000000e+00]\n",
      " [4.04478960e-01 1.37335980e-01 1.32407196e-02 2.00000000e+00]\n",
      " [4.85282062e+01 1.84899242e+00 6.05781776e-01 1.00000000e+00]\n",
      " [8.95363605e-02 1.65090286e-01 2.50512078e-01 3.00000000e+00]\n",
      " [1.31453722e+00 2.85108181e+00 1.08476709e+00 1.00000000e+00]\n",
      " [5.73771757e+00 2.49758182e+01 3.35166562e-01 1.00000000e+00]\n",
      " [3.83265275e-01 1.63070669e-01 5.47409835e-03 2.00000000e+00]\n",
      " [2.60320833e+01 6.11106324e-01 5.57948647e-01 1.00000000e+00]\n",
      " [2.44853356e+00 1.48112873e+00 1.08043043e+00 3.00000000e+00]\n",
      " [2.91665967e+00 7.01009244e-01 5.58109588e-01 1.00000000e+00]\n",
      " [9.08990651e+00 3.09226368e+01 7.88969806e-01 1.00000000e+00]\n",
      " [4.70050908e-01 1.10571881e-01 1.05865541e-02 2.00000000e+00]\n",
      " [2.84111147e+01 1.92022955e-01 6.40656540e-01 1.00000000e+00]\n",
      " [1.79835130e-01 1.00813396e-01 1.47091022e-01 3.00000000e+00]\n",
      " [2.72336913e+00 6.19346888e-01 8.99522115e-01 1.00000000e+00]\n",
      " [5.45441238e+00 2.48469150e+01 5.96227977e-01 1.00000000e+00]\n",
      " [4.05796926e-01 1.37272731e-01 1.62807912e-02 2.00000000e+00]\n",
      " [2.80911945e+01 1.39520622e+00 4.80267665e-01 1.00000000e+00]\n",
      " [1.82981599e-01 2.05308762e-01 2.42979295e-01 3.00000000e+00]\n",
      " [2.71062837e+00 2.16278046e+00 1.31743605e+00 1.00000000e+00]\n",
      " [8.67808411e+00 2.93886608e+01 6.50461044e-01 1.00000000e+00]\n",
      " [3.85661346e-01 1.49535635e-01 8.20142986e-03 2.00000000e+00]\n",
      " [2.18347104e+01 3.65595275e-01 5.23141326e-01 1.00000000e+00]\n",
      " [2.23535097e+00 1.34008701e+00 9.19477983e-01 3.00000000e+00]\n",
      " [7.84564102e+00 2.34717143e+00 1.75334761e+00 1.00000000e+00]\n",
      " [6.42443597e+00 2.72985700e+01 5.46241792e-01 1.00000000e+00]\n",
      " [4.18732022e-01 1.44033657e-01 8.29463887e-03 2.00000000e+00]\n",
      " [2.34278634e+01 4.51795077e-01 6.19785460e-01 1.00000000e+00]\n",
      " [1.83059391e-01 9.75902977e-02 1.61208289e-01 3.00000000e+00]\n",
      " [2.90243183e+00 2.24824804e-01 1.20603848e+00 1.00000000e+00]\n",
      " [3.34607323e+00 2.28402198e+01 4.75171284e-01 1.00000000e+00]\n",
      " [4.39171823e-01 1.06663227e-01 3.85501973e-03 2.00000000e+00]\n",
      " [3.09431608e+01 1.24485483e+00 6.94063611e-01 1.00000000e+00]\n",
      " [5.77819493e-02 1.69007031e-01 2.49873671e-01 3.00000000e+00]\n",
      " [1.68044068e+00 3.77442867e+00 1.18975393e+00 1.00000000e+00]\n",
      " [5.73771757e+00 2.49758182e+01 3.35166562e-01 1.00000000e+00]\n",
      " [4.18732022e-01 1.44033657e-01 8.29463887e-03 2.00000000e+00]\n",
      " [3.22238938e+01 7.42365356e-01 4.71633842e-01 1.00000000e+00]\n",
      " [2.46038508e+00 1.48509151e+00 1.08476389e+00 3.00000000e+00]\n",
      " [1.09373899e+01 2.63348120e+00 4.11591843e+00 1.00000000e+00]\n",
      " [9.08990651e+00 3.09226368e+01 7.88969806e-01 1.00000000e+00]\n",
      " [3.85383654e-01 1.53003778e-01 7.01681456e-03 2.00000000e+00]\n",
      " [2.84534509e+01 4.94239611e-01 7.52428923e-01 1.00000000e+00]\n",
      " [1.85142542e-01 1.02825287e-01 1.47298109e-01 3.00000000e+00]\n",
      " [1.84024417e+00 5.10977429e-01 7.01088872e-01 1.00000000e+00]]\n",
      "[0. 1. 2. 3. 4. 0. 1. 2. 3. 4. 0. 1. 2. 3. 4. 0. 1. 2. 3. 4. 0. 1. 2. 3.\n",
      " 4. 0. 1. 2. 3. 4. 0. 1. 2. 3. 4. 0. 1. 2. 3. 4. 0. 1. 2. 3. 4. 0. 1. 2.\n",
      " 3. 4. 0. 1. 2. 3. 4. 0. 1. 2. 3. 4.]\n"
     ]
    }
   ],
   "source": [
    "features,targets = get_features(operators,5,True)\n",
    "print(features)\n",
    "print(targets)"
   ]
  },
  {
   "cell_type": "markdown",
   "metadata": {},
   "source": [
    "### K-nearest_neighbors classifier"
   ]
  },
  {
   "cell_type": "code",
   "execution_count": 145,
   "metadata": {},
   "outputs": [],
   "source": [
    "#split dataset into train and test data\n",
    "X_train, X_test, y_train, y_test = train_test_split(features,targets, test_size=0.2, random_state=1)"
   ]
  },
  {
   "cell_type": "code",
   "execution_count": 146,
   "metadata": {},
   "outputs": [
    {
     "data": {
      "text/plain": [
       "Text(0, 0.5, 'Testing accuracy')"
      ]
     },
     "execution_count": 146,
     "metadata": {},
     "output_type": "execute_result"
    },
    {
     "data": {
      "image/png": "[encoded data removed]",
      "text/plain": [
       "<Figure size 432x288 with 1 Axes>"
      ]
     },
     "metadata": {
      "needs_background": "light"
     },
     "output_type": "display_data"
    }
   ],
   "source": [
    "k_range = range(1,30)\n",
    "scores = {}\n",
    "scores_list = []\n",
    "for k in k_range :\n",
    "    knn = KNeighborsClassifier(n_neighbors = k)\n",
    "    knn.fit(X_train,y_train)\n",
    "    y_pred = knn.predict(X_test)\n",
    "    scores[k] = metrics.accuracy_score(y_test,y_pred)\n",
    "    scores_list.append(metrics.accuracy_score(y_test,y_pred))\n",
    "    \n",
    "plt.plot(k_range,scores_list)\n",
    "plt.xlabel('Value of K for KNN')\n",
    "plt.ylabel('Testing accuracy')"
   ]
  },
  {
   "cell_type": "code",
   "execution_count": 147,
   "metadata": {},
   "outputs": [
    {
     "data": {
      "text/plain": [
       "GridSearchCV(cv=5, error_score=nan,\n",
       "             estimator=KNeighborsClassifier(algorithm='auto', leaf_size=30,\n",
       "                                            metric='minkowski',\n",
       "                                            metric_params=None, n_jobs=None,\n",
       "                                            n_neighbors=5, p=2,\n",
       "                                            weights='uniform'),\n",
       "             iid='deprecated', n_jobs=None,\n",
       "             param_grid={'n_neighbors': array([ 1,  2,  3,  4,  5,  6,  7,  8,  9, 10, 11, 12, 13, 14, 15, 16, 17,\n",
       "       18, 19])},\n",
       "             pre_dispatch='2*n_jobs', refit=True, return_train_score=False,\n",
       "             scoring=None, verbose=0)"
      ]
     },
     "execution_count": 147,
     "metadata": {},
     "output_type": "execute_result"
    }
   ],
   "source": [
    "#create new a knn model\n",
    "knn_GS = KNeighborsClassifier()\n",
    "#create a dictionary of all values we want to test for n_neighbors\n",
    "param_grid = {'n_neighbors': np.arange(1, 20)}\n",
    "#use gridsearch to test all values for n_neighbors\n",
    "knn_gscv = GridSearchCV(knn_GS, param_grid, cv=5)\n",
    "#fit model to data\n",
    "knn_gscv.fit(features, targets)"
   ]
  },
  {
   "cell_type": "code",
   "execution_count": 148,
   "metadata": {},
   "outputs": [
    {
     "name": "stdout",
     "output_type": "stream",
     "text": [
      "{'n_neighbors': 1}\n",
      "1.0\n"
     ]
    }
   ],
   "source": [
    "#check top performing n_neighbors value\n",
    "print(knn_gscv.best_params_)\n",
    "#check mean score for the top performing value of n_neighbors\n",
    "print(knn_gscv.best_score_)"
   ]
  },
  {
   "cell_type": "code",
   "execution_count": 149,
   "metadata": {},
   "outputs": [
    {
     "name": "stdout",
     "output_type": "stream",
     "text": [
      "{'mean_fit_time': array([0.00180006, 0.00080004, 0.00080004, 0.00060005, 0.00080009,\n",
      "       0.00100007, 0.00079999, 0.00080013, 0.0006001 , 0.        ,\n",
      "       0.00039997, 0.00100017, 0.00100012, 0.00079994, 0.00019999,\n",
      "       0.        , 0.00020003, 0.        , 0.        ]), 'std_fit_time': array([1.60014630e-03, 4.00018706e-04, 7.48430176e-04, 4.89940339e-04,\n",
      "       4.00042545e-04, 1.16800773e-07, 3.99994861e-04, 4.00066404e-04,\n",
      "       4.89979242e-04, 0.00000000e+00, 4.89862441e-04, 1.50789149e-07,\n",
      "       9.53674316e-08, 3.99971008e-04, 3.99971008e-04, 0.00000000e+00,\n",
      "       4.00066376e-04, 0.00000000e+00, 0.00000000e+00]), 'mean_score_time': array([0.00240011, 0.00180011, 0.00200014, 0.00160012, 0.00140004,\n",
      "       0.00099998, 0.00120015, 0.00119996, 0.00139999, 0.00140004,\n",
      "       0.00160017, 0.00099993, 0.00099998, 0.0012002 , 0.00180016,\n",
      "       0.00140009, 0.00100002, 0.00160017, 0.00200014]), 'std_score_time': array([4.89920847e-04, 7.48404683e-04, 6.32485089e-04, 4.89862441e-04,\n",
      "       4.89843011e-04, 9.53674316e-08, 4.00090228e-04, 3.99947177e-04,\n",
      "       4.89979242e-04, 4.90037648e-04, 4.89901429e-04, 0.00000000e+00,\n",
      "       9.53674316e-08, 3.99947177e-04, 3.99994918e-04, 4.89804047e-04,\n",
      "       1.16800773e-07, 4.89901382e-04, 9.53674316e-08]), 'param_n_neighbors': masked_array(data=[1, 2, 3, 4, 5, 6, 7, 8, 9, 10, 11, 12, 13, 14, 15, 16,\n",
      "                   17, 18, 19],\n",
      "             mask=[False, False, False, False, False, False, False, False,\n",
      "                   False, False, False, False, False, False, False, False,\n",
      "                   False, False, False],\n",
      "       fill_value='?',\n",
      "            dtype=object), 'params': [{'n_neighbors': 1}, {'n_neighbors': 2}, {'n_neighbors': 3}, {'n_neighbors': 4}, {'n_neighbors': 5}, {'n_neighbors': 6}, {'n_neighbors': 7}, {'n_neighbors': 8}, {'n_neighbors': 9}, {'n_neighbors': 10}, {'n_neighbors': 11}, {'n_neighbors': 12}, {'n_neighbors': 13}, {'n_neighbors': 14}, {'n_neighbors': 15}, {'n_neighbors': 16}, {'n_neighbors': 17}, {'n_neighbors': 18}, {'n_neighbors': 19}], 'split0_test_score': array([1.        , 1.        , 1.        , 1.        , 1.        ,\n",
      "       1.        , 0.91666667, 0.91666667, 0.91666667, 0.91666667,\n",
      "       0.91666667, 1.        , 1.        , 0.91666667, 0.91666667,\n",
      "       0.91666667, 0.91666667, 0.91666667, 0.83333333]), 'split1_test_score': array([1.        , 1.        , 1.        , 1.        , 1.        ,\n",
      "       1.        , 0.91666667, 0.83333333, 0.83333333, 0.83333333,\n",
      "       0.83333333, 0.75      , 0.75      , 0.75      , 0.75      ,\n",
      "       0.75      , 0.66666667, 0.66666667, 0.66666667]), 'split2_test_score': array([1.        , 1.        , 1.        , 1.        , 1.        ,\n",
      "       1.        , 0.91666667, 1.        , 0.91666667, 1.        ,\n",
      "       1.        , 0.83333333, 0.83333333, 0.83333333, 0.83333333,\n",
      "       0.83333333, 0.66666667, 0.66666667, 0.66666667]), 'split3_test_score': array([1.        , 1.        , 1.        , 1.        , 1.        ,\n",
      "       1.        , 1.        , 1.        , 1.        , 1.        ,\n",
      "       1.        , 0.83333333, 0.83333333, 0.83333333, 0.83333333,\n",
      "       0.75      , 0.75      , 0.75      , 0.75      ]), 'split4_test_score': array([1.        , 1.        , 1.        , 1.        , 1.        ,\n",
      "       0.91666667, 0.91666667, 0.91666667, 0.91666667, 0.83333333,\n",
      "       0.83333333, 0.83333333, 0.83333333, 0.83333333, 0.83333333,\n",
      "       0.83333333, 0.83333333, 0.83333333, 0.75      ]), 'mean_test_score': array([1.        , 1.        , 1.        , 1.        , 1.        ,\n",
      "       0.98333333, 0.93333333, 0.93333333, 0.91666667, 0.91666667,\n",
      "       0.91666667, 0.85      , 0.85      , 0.83333333, 0.83333333,\n",
      "       0.81666667, 0.76666667, 0.76666667, 0.73333333]), 'std_test_score': array([0.        , 0.        , 0.        , 0.        , 0.        ,\n",
      "       0.03333333, 0.03333333, 0.06236096, 0.05270463, 0.0745356 ,\n",
      "       0.0745356 , 0.08164966, 0.08164966, 0.05270463, 0.05270463,\n",
      "       0.06236096, 0.09718253, 0.09718253, 0.06236096]), 'rank_test_score': array([ 1,  1,  1,  1,  1,  6,  7,  7,  9,  9,  9, 12, 12, 14, 14, 16, 17,\n",
      "       17, 19])}\n"
     ]
    }
   ],
   "source": [
    "# check result\n",
    "print(knn_gscv.cv_results_)"
   ]
  },
  {
   "cell_type": "code",
   "execution_count": 140,
   "metadata": {},
   "outputs": [
    {
     "data": {
      "text/plain": [
       "KNeighborsClassifier(algorithm='auto', leaf_size=30, metric='minkowski',\n",
       "                     metric_params=None, n_jobs=None, n_neighbors=1, p=2,\n",
       "                     weights='uniform')"
      ]
     },
     "execution_count": 140,
     "metadata": {},
     "output_type": "execute_result"
    }
   ],
   "source": [
    "# from gridsearchCV -> 1-NN best (but if look at result 1 to 18 yield 100 accuracy)\n",
    "knn_tuned = KNeighborsClassifier(n_neighbors = 1)\n",
    "knn_tuned.fit(features, targets)"
   ]
  },
  {
   "cell_type": "code",
   "execution_count": 156,
   "metadata": {},
   "outputs": [],
   "source": [
    "classes = {0:'addition',1:'equal',2:'minus',3:'division',4:'multiplication'}"
   ]
  },
  {
   "cell_type": "code",
   "execution_count": 171,
   "metadata": {},
   "outputs": [
    {
     "name": "stdout",
     "output_type": "stream",
     "text": [
      "1\n",
      "[[5.45441238e+00 2.48469150e+01 5.96227977e-01 1.00000000e+00]\n",
      " [3.78460154e-01 1.60096815e-01 8.67317032e-03 2.00000000e+00]\n",
      " [3.58715825e+01 1.88588314e+00 8.01137455e-01 1.00000000e+00]\n",
      " [2.08890870e-01 1.90470428e-01 2.27191509e-01 3.00000000e+00]\n",
      " [2.44048401e+00 1.96214759e+00 1.15137728e+00 1.00000000e+00]]\n"
     ]
    }
   ],
   "source": [
    "# Load unseen operators\n",
    "data_path = os.path.join('..\\data')\n",
    "plus_ = skimage.io.imread(os.path.join(data_path, 'plus.png'))\n",
    "equal_ = skimage.io.imread(os.path.join(data_path, 'equal.png'))\n",
    "minus_ = skimage.io.imread(os.path.join(data_path, 'minus.png'))\n",
    "div_ = skimage.io.imread(os.path.join(data_path, 'div.png'))\n",
    "mul_ = skimage.io.imread(os.path.join(data_path, 'mul.png'))\n",
    "\n",
    "#thresh = threshold_otsu(operators_rotated[0,idx])\n",
    "#operators_rotated[0,idx] = operators_rotated[0,idx]>thresh\n",
    "#operators_rotated[0,idx] = operators_rotated[0,idx].astype(float)\n",
    "\n",
    "plus_ = np.expand_dims(plus_,axis = 0)\n",
    "equal_ = np.expand_dims(equal_,axis = 0)\n",
    "minus_ = np.expand_dims(minus_,axis = 0)\n",
    "div_ = np.expand_dims(div_,axis = 0)\n",
    "mul_ = np.expand_dims(mul_,axis = 0)\n",
    "    \n",
    "operators_ = np.concatenate([plus_,equal_,minus_,div_,mul_], axis = 0)\n",
    "operators_ = np.expand_dims(operators_,axis = 0)\n",
    "\n",
    "for N in range(operators_.shape[0]) :\n",
    "    for idx,op in enumerate(operators_[N]) : \n",
    "        thresh = threshold_otsu(op)\n",
    "        op = op>thresh\n",
    "        operators_[N,idx] = op.astype(float)\n",
    "        \n",
    "\n",
    "# get features\n",
    "\n",
    "features_unseen = get_features(operators_,5)\n",
    "print(features_unseen)"
   ]
  },
  {
   "cell_type": "code",
   "execution_count": 172,
   "metadata": {},
   "outputs": [],
   "source": [
    "y_predict = knn_tuned.predict(features_unseen)"
   ]
  },
  {
   "cell_type": "code",
   "execution_count": 173,
   "metadata": {},
   "outputs": [
    {
     "name": "stdout",
     "output_type": "stream",
     "text": [
      "addition\n",
      "equal\n",
      "minus\n",
      "division\n",
      "multiplication\n"
     ]
    }
   ],
   "source": [
    "for y in y_predict:\n",
    "    print(classes[y])"
   ]
  },
  {
   "cell_type": "code",
   "execution_count": null,
   "metadata": {},
   "outputs": [],
   "source": []
  }
 ],
 "metadata": {
  "kernelspec": {
   "display_name": "Python 3",
   "language": "python",
   "name": "python3"
  },
  "language_info": {
   "codemirror_mode": {
    "name": "ipython",
    "version": 3
   },
   "file_extension": ".py",
   "mimetype": "text/x-python",
   "name": "python",
   "nbconvert_exporter": "python",
   "pygments_lexer": "ipython3",
   "version": "3.6.10"
  }
 },
 "nbformat": 4,
 "nbformat_minor": 4
}
