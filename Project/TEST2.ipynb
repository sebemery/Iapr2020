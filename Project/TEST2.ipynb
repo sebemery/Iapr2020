{
 "cells": [
  {
   "cell_type": "code",
   "execution_count": 1,
   "metadata": {},
   "outputs": [],
   "source": [
    "import tarfile\n",
    "import os\n",
    "\n",
    "data_base_path = os.path.join(os.pardir, 'data')\n",
    "data_folder = 'lab-03-data'\n",
    "tar_path = os.path.join(data_base_path, data_folder + '.tar.gz')\n",
    "with tarfile.open(tar_path, mode='r:gz') as tar:\n",
    "    tar.extractall(path=data_base_path)"
   ]
  },
  {
   "cell_type": "code",
   "execution_count": 2,
   "metadata": {},
   "outputs": [],
   "source": [
    "import gzip\n",
    "import numpy as np\n",
    "import matplotlib.pyplot as plt\n",
    "\n",
    "def extract_data(filename, image_shape, image_number):\n",
    "    with gzip.open(filename) as bytestream:\n",
    "        bytestream.read(16)\n",
    "        buf = bytestream.read(np.prod(image_shape) * image_number)\n",
    "        data = np.frombuffer(buf, dtype=np.uint8).astype(np.float32)\n",
    "        data = data.reshape(image_number, image_shape[0], image_shape[1])\n",
    "    return data\n",
    "\n",
    "\n",
    "def extract_labels(filename, image_number):\n",
    "    with gzip.open(filename) as bytestream:\n",
    "        bytestream.read(8)\n",
    "        buf = bytestream.read(1 * image_number)\n",
    "        labels = np.frombuffer(buf, dtype=np.uint8).astype(np.int64)\n",
    "    return labels"
   ]
  },
  {
   "cell_type": "code",
   "execution_count": 3,
   "metadata": {},
   "outputs": [],
   "source": [
    "image_shape = (28, 28)\n",
    "train_set_size = 60000\n",
    "test_set_size = 10000\n",
    "\n",
    "data_part2_folder = os.path.join(data_base_path, data_folder, 'part2')\n",
    "\n",
    "train_images_path = os.path.join(data_part2_folder, 'train-images-idx3-ubyte.gz')\n",
    "train_labels_path = os.path.join(data_part2_folder, 'train-labels-idx1-ubyte.gz')\n",
    "test_images_path = os.path.join(data_part2_folder, 't10k-images-idx3-ubyte.gz')\n",
    "test_labels_path = os.path.join(data_part2_folder, 't10k-labels-idx1-ubyte.gz')\n",
    "\n",
    "train_images = extract_data(train_images_path, image_shape, train_set_size)\n",
    "test_images = extract_data(test_images_path, image_shape, test_set_size)\n",
    "train_labels = extract_labels(train_labels_path, train_set_size)\n",
    "test_labels = extract_labels(test_labels_path, test_set_size)"
   ]
  },
  {
   "cell_type": "code",
   "execution_count": 4,
   "metadata": {
    "scrolled": true
   },
   "outputs": [
    {
     "data": {
      "image/png": "[encoded data removed]",
      "text/plain": [
       "<Figure size 864x216 with 10 Axes>"
      ]
     },
     "metadata": {
      "needs_background": "light"
     },
     "output_type": "display_data"
    }
   ],
   "source": [
    "prng = np.random.RandomState(seed=123456789)  # seed to always re-draw the same distribution\n",
    "plt_ind = prng.randint(low=0, high=train_set_size, size=10)\n",
    "\n",
    "fig, axes = plt.subplots(1, 10, figsize=(12, 3))\n",
    "for ax, im, lb in zip(axes, train_images[plt_ind], train_labels[plt_ind]):\n",
    "    ax.imshow(im, cmap='gray')\n",
    "    ax.axis('off')\n",
    "    ax.set_title(lb)"
   ]
  },
  {
   "cell_type": "code",
   "execution_count": 5,
   "metadata": {},
   "outputs": [
    {
     "name": "stdout",
     "output_type": "stream",
     "text": [
      "torch.Size([60000, 1, 28, 28]) torch.Size([10000, 1, 28, 28]) torch.Size([60000]) torch.Size([10000])\n"
     ]
    }
   ],
   "source": [
    "# data from numpy to tensor \n",
    "import torch\n",
    "from torch import nn\n",
    "from torch.nn import functional as F\n",
    "from torch import optim\n",
    "\n",
    "train_im = train_images.copy()\n",
    "test_im = test_images.copy()\n",
    "train_lab = train_labels.copy()\n",
    "test_lab = test_labels.copy()\n",
    "\n",
    "train_im = train_im.reshape(train_im.shape[0], 1, train_im.shape[1], train_im.shape[2])\n",
    "test_im = test_im.reshape(test_im.shape[0], 1, test_im.shape[1], test_im.shape[2])\n",
    "\n",
    "train_input = torch.from_numpy(train_im)\n",
    "test_input = torch.from_numpy(test_im)\n",
    "train_target = torch.from_numpy(train_lab)\n",
    "test_target = torch.from_numpy(test_lab)\n",
    "\n",
    "print(train_input.size(), test_input.size(), train_target.size(), test_target.size())"
   ]
  },
  {
   "cell_type": "markdown",
   "metadata": {},
   "source": [
    "We contruct a model that first applies a convolutional filter to the images and then reduce them into a single vector of size 10 corresponding to the class scores (digit 0 to 9). \n",
    "\n",
    "Input :&emsp;&emsp; &emsp;&emsp;&emsp;&emsp;&emsp;    60'000 x  1 x 28 x 28 (= images)    <br>\n",
    "1st convolution :&emsp;&nbsp;&nbsp;&nbsp; 60'000 x 32 x  8 x  8               <br>\n",
    "2nd convolution :&emsp;&nbsp; 60'000 x 64 x  2 x  2               <br>\n",
    "view :&emsp;&emsp; &emsp;&emsp;&emsp;&emsp;&emsp;&nbsp;       60'000 x 256                        <br>\n",
    "MLP layer 1 :&emsp;&emsp;&emsp;&nbsp;&nbsp;   60'000 x 100                        <br>\n",
    "MLP output :&emsp;&emsp;&emsp;&nbsp;&nbsp;       60'000 x 10 (= class scores)        <br>\n",
    "\n",
    "We use ReLu as activation function"
   ]
  },
  {
   "cell_type": "code",
   "execution_count": 6,
   "metadata": {},
   "outputs": [],
   "source": [
    "# The ConvNet module is a simple network that applies a convolution filter before the multi-layer perceptron\n",
    "class ConvNet(nn.Module):\n",
    "    def __init__(self):\n",
    "        super(ConvNet, self).__init__()\n",
    "        \n",
    "        # Pre-processing with a convolutional filter\n",
    "        self.conv1 = nn.Conv2d(1, 32, kernel_size=5) \n",
    "        self.conv2 = nn.Conv2d(32, 64, kernel_size=5)\n",
    "        \n",
    "        # MLP 1 layer, 100 units : The output of the convolutional layer is reduce into a single vector of size 256 -> 100 -> 10 through the MLP\n",
    "        self.fc1 = nn.Linear(256, 100)\n",
    "        self.fc2 = nn.Linear(100, 10) # output 10 classes\n",
    "        \n",
    "        #Dropout method drop connections between nodes in the MLP during training to reduce training time and avoid over-fitting\n",
    "        self.dropout = nn.Dropout(0.25)\n",
    "    \n",
    "    def forward(self, x):\n",
    "        \n",
    "        # Pre-processing with a convolutional filter\n",
    "        x = F.relu(F.max_pool2d(self.conv1(x), kernel_size=3, stride=3))\n",
    "        x = F.relu(F.max_pool2d(self.conv2(x), kernel_size=2, stride=2))\n",
    "       \n",
    "        # MLP 1 layer, 100 units\n",
    "        x = self.dropout(F.relu(self.fc1(x.view(-1, 256))))\n",
    "        x = self.fc2(x)\n",
    "        \n",
    "        return x"
   ]
  },
  {
   "cell_type": "code",
   "execution_count": 7,
   "metadata": {},
   "outputs": [],
   "source": [
    "# Training \n",
    "def train_model(model, train_input, train_target, mini_batch_size): \n",
    "        criterion = torch.nn.CrossEntropyLoss()  # Loss criterion = Cross Entropy\n",
    "        optimizer = optim.SGD(model.parameters(), lr = 1e-3) # Optimizer = SGD\n",
    "        nb_epochs = 25\n",
    "        \n",
    "        for e in range(nb_epochs):\n",
    "            losses = 0\n",
    "            for b in range(0, train_input.size(0), mini_batch_size):\n",
    "                output = model(train_input.narrow(0, b, mini_batch_size)) # prediction\n",
    "                loss = criterion(output, train_target.narrow(0, b, mini_batch_size)) # computation of the loss\n",
    "                model.zero_grad()\n",
    "                loss.backward() # backward pass \n",
    "                optimizer.step() # optimizaiton of the weights\n",
    "                losses += loss.item()\n",
    "            \n",
    "            print('Iteration {}, loss = {}'.format(e, losses))\n",
    "\n",
    "# Computation of errors\n",
    "def compute_nb_errors(model, data_input, data_target, mini_batch_size):\n",
    "\n",
    "    nb_data_errors = 0\n",
    "\n",
    "    for b in range(0, data_input.size(0), mini_batch_size):\n",
    "        output = model(data_input.narrow(0, b, mini_batch_size))\n",
    "        _, predicted_classes = torch.max(output, 1)\n",
    "        for k in range(mini_batch_size):\n",
    "            if data_target[b + k] != predicted_classes[k]: #if the prediction is not right, increase number of errors\n",
    "                nb_data_errors = nb_data_errors + 1\n",
    "\n",
    "    return nb_data_errors"
   ]
  },
  {
   "cell_type": "code",
   "execution_count": 8,
   "metadata": {
    "scrolled": false
   },
   "outputs": [
    {
     "name": "stdout",
     "output_type": "stream",
     "text": [
      "Iteration 0, loss = 172.98556384444237\n",
      "Iteration 1, loss = 56.58769433200359\n",
      "Iteration 2, loss = 44.16014987230301\n",
      "Iteration 3, loss = 37.12584824860096\n",
      "Iteration 4, loss = 32.75279611349106\n",
      "Iteration 5, loss = 29.619339153170586\n",
      "Iteration 6, loss = 26.717351607978344\n",
      "Iteration 7, loss = 24.655470497906208\n",
      "Iteration 8, loss = 23.215447276830673\n",
      "Iteration 9, loss = 22.003466196358204\n",
      "Iteration 10, loss = 20.612627521157265\n",
      "Iteration 11, loss = 19.57685873657465\n",
      "Iteration 12, loss = 18.799755439162254\n",
      "Iteration 13, loss = 17.841974806040525\n",
      "Iteration 14, loss = 17.225797899067402\n",
      "Iteration 15, loss = 16.657754622399807\n",
      "Iteration 16, loss = 15.931753054261208\n",
      "Iteration 17, loss = 15.460655692964792\n",
      "Iteration 18, loss = 15.025718465447426\n",
      "Iteration 19, loss = 14.693720791488886\n",
      "Iteration 20, loss = 14.206740740686655\n",
      "Iteration 21, loss = 13.765820235013962\n",
      "Iteration 22, loss = 13.584057103842497\n",
      "Iteration 23, loss = 13.28795762360096\n",
      "Iteration 24, loss = 12.711608216166496\n",
      "train error Net 96.78%\n",
      "test error Net 96.67%\n"
     ]
    }
   ],
   "source": [
    "mini_batch_size = 500\n",
    "model = ConvNet()\n",
    "\n",
    "# Training\n",
    "train_model(model, train_input, train_target, mini_batch_size)\n",
    "\n",
    "# Computing number of errors on the test set and train set\n",
    "nb_train_errors = compute_nb_errors(model, train_input, train_target, mini_batch_size)\n",
    "nb_test_errors = compute_nb_errors(model, test_input, test_target, mini_batch_size)\n",
    "\n",
    "# Train and test accuracy\n",
    "print('train error Net {:0.2f}%'.format(100 - ((100 * nb_train_errors) / train_input.size(0))))\n",
    "print('test error Net {:0.2f}%'.format(100 - ((100 * nb_test_errors) / test_input.size(0))))"
   ]
  },
  {
   "cell_type": "code",
   "execution_count": 9,
   "metadata": {
    "scrolled": true
   },
   "outputs": [
    {
     "name": "stdout",
     "output_type": "stream",
     "text": [
      "test target : tensor([4, 7, 2, 5, 9, 0, 6, 1, 8, 4, 2, 4])\n",
      "test prediction  : tensor([4, 7, 2, 5, 8, 0, 0, 1, 8, 4, 2, 4])\n"
     ]
    }
   ],
   "source": [
    "#Example of prediction on some test images\n",
    "np.random.seed(12)\n",
    "a = np.random.randint(1000, size=(12))\n",
    "output_test = model(test_input[a]).softmax(1)\n",
    "_, predicted_classe = torch.max(output_test, 1)\n",
    "print('test target :', test_target[a])\n",
    "print('test prediction  :', predicted_classe)\n",
    "b = output_test.detach().numpy()"
   ]
  },
  {
   "cell_type": "code",
   "execution_count": 10,
   "metadata": {},
   "outputs": [
    {
     "data": {
      "image/png": "[encoded data removed]",
      "text/plain": [
       "<Figure size 1728x1152 with 24 Axes>"
      ]
     },
     "metadata": {
      "needs_background": "light"
     },
     "output_type": "display_data"
    }
   ],
   "source": [
    "fig, axes = plt.subplots(4, 6, figsize=(24,16))\n",
    "ax = axes.ravel()\n",
    "\n",
    "for ind in range(b.shape[0]):\n",
    "    \n",
    "    ax[2*ind].imshow(test_input[a[ind],0], cmap='gray')\n",
    "    ax[2*ind].axis('off')\n",
    "    \n",
    "    width = 0.75\n",
    "    xpos = np.arange(b.shape[1])  # the x locations for the groups\n",
    "    ax[2*ind+1].barh(xpos, b[ind], width, color=\"blue\")\n",
    "    ax[2*ind+1].set_yticks(xpos)\n",
    "    ax[2*ind+1].set_yticklabels(xpos)\n",
    "    ax[2*ind+1].set_xlim(0,1)\n",
    "\n",
    "plt.show()"
   ]
  }
 ],
 "metadata": {
  "kernelspec": {
   "display_name": "Python 3",
   "language": "python",
   "name": "python3"
  },
  "language_info": {
   "codemirror_mode": {
    "name": "ipython",
    "version": 3
   },
   "file_extension": ".py",
   "mimetype": "text/x-python",
   "name": "python",
   "nbconvert_exporter": "python",
   "pygments_lexer": "ipython3",
   "version": "3.7.6"
  }
 },
 "nbformat": 4,
 "nbformat_minor": 2
}
