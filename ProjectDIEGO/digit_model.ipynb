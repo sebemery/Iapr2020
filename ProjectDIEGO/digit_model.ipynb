{
 "cells": [
  {
   "cell_type": "markdown",
   "metadata": {},
   "source": [
    "# AUGMENTED MNIST CLASSIFIER [affNIST]"
   ]
  },
  {
   "cell_type": "code",
   "execution_count": 1,
   "metadata": {},
   "outputs": [],
   "source": [
    "import torch\n",
    "import torchvision\n",
    "import matplotlib.pyplot as plt\n",
    "import torch.nn as nn\n",
    "import torch.nn.functional as F\n",
    "import torch.optim as optim\n",
    "from os.path import dirname, join as pjoin\n",
    "import scipy.io as sio\n",
    "import numpy as np\n",
    "import random\n",
    "import os\n",
    "import skimage.io\n",
    "from skimage.filters import threshold_otsu"
   ]
  },
  {
   "cell_type": "code",
   "execution_count": 2,
   "metadata": {},
   "outputs": [],
   "source": [
    "# The ConvNet module is a simple network that applies a convolution filter before the multi-layer perceptron\n",
    "class ConvNet(nn.Module):\n",
    "    def __init__(self):\n",
    "        super(ConvNet, self).__init__()\n",
    "        \n",
    "        # Pre-processing with a convolutional filter\n",
    "        self.conv1 = nn.Conv2d(1, 32, kernel_size=5) \n",
    "        self.conv2 = nn.Conv2d(32, 64, kernel_size=5)\n",
    "        \n",
    "        # MLP 1 layer, 100 units : The output of the convolutional layer is reduce into a single vector of size 256 -> 100 -> 10 through the MLP\n",
    "        self.fc1 = nn.Linear(256, 100)\n",
    "        self.fc2 = nn.Linear(100, 10) # output 10 classes\n",
    "        \n",
    "        #Dropout method drop connections between nodes in the MLP during training to reduce training time and avoid over-fitting\n",
    "        self.dropout = nn.Dropout(0.25)\n",
    "    \n",
    "    def forward(self, x):\n",
    "        \n",
    "        # Pre-processing with a convolutional filter\n",
    "        #x = F.relu(F.max_pool2d(self.conv1(x), kernel_size=3, stride=3))\n",
    "        x = F.relu(F.max_pool2d(self.conv1(x), kernel_size=3))\n",
    "        #x = F.relu(F.max_pool2d(self.conv2(x), kernel_size=2, stride=2))\n",
    "        x = F.relu(F.max_pool2d(self.conv2(x), kernel_size=4))\n",
    "       \n",
    "        # MLP 1 layer, 100 units\n",
    "        x = self.dropout(F.relu(self.fc1(x.view(-1, 256))))\n",
    "        x = self.fc2(x)\n",
    "        \n",
    "        return x"
   ]
  },
  {
   "cell_type": "code",
   "execution_count": 3,
   "metadata": {},
   "outputs": [
    {
     "data": {
      "text/plain": [
       "ConvNet(\n",
       "  (conv1): Conv2d(1, 32, kernel_size=(5, 5), stride=(1, 1))\n",
       "  (conv2): Conv2d(32, 64, kernel_size=(5, 5), stride=(1, 1))\n",
       "  (fc1): Linear(in_features=256, out_features=100, bias=True)\n",
       "  (fc2): Linear(in_features=100, out_features=10, bias=True)\n",
       "  (dropout): Dropout(p=0.25, inplace=False)\n",
       ")"
      ]
     },
     "execution_count": 3,
     "metadata": {},
     "output_type": "execute_result"
    }
   ],
   "source": [
    "model = ConvNet()\n",
    "model.load_state_dict(torch.load('model_bin'))\n",
    "model.eval()"
   ]
  },
  {
   "cell_type": "code",
   "execution_count": 15,
   "metadata": {},
   "outputs": [
    {
     "name": "stdout",
     "output_type": "stream",
     "text": [
      "['crop_07.jpg', 'crop_05.jpg', 'crop_04.jpg', 'crop_00.jpg', 'crop_01.jpg', 'crop_08.jpg']\n",
      "(1812, 1811, 3)\n"
     ]
    },
    {
     "data": {
      "image/png": "[encoded data removed]",
      "text/plain": [
       "<Figure size 1152x288 with 6 Axes>"
      ]
     },
     "metadata": {
      "needs_background": "light"
     },
     "output_type": "display_data"
    }
   ],
   "source": [
    "sign_path = 'crop_object_2/'\n",
    "print(os.listdir(sign_path))\n",
    "sign_names = [nm for nm in os.listdir(sign_path) if '.jpg' in nm]  # make sure to only load .png\n",
    "sign_names.sort()  # sort file names\n",
    "ic_sign = skimage.io.imread_collection([os.path.join(sign_path, nm) for nm in sign_names])\n",
    "sign_img = skimage.io.concatenate_images(ic_sign)\n",
    "\n",
    "fig, axes = plt.subplots(1, sign_img.shape[0], figsize=(16, 4))\n",
    "for ax, im, nm in zip(axes.ravel(), sign_img, sign_names):\n",
    "    ax.imshow(im)\n",
    "    ax.axis('off')\n",
    "    ax.set_title(nm)\n",
    "    \n",
    "print(sign_img[0].shape)"
   ]
  },
  {
   "cell_type": "code",
   "execution_count": 12,
   "metadata": {},
   "outputs": [
    {
     "name": "stdout",
     "output_type": "stream",
     "text": [
      "(40, 40)\n",
      "(40, 40)\n",
      "(40, 40)\n",
      "(40, 40)\n",
      "(40, 40)\n",
      "(40, 40)\n"
     ]
    },
    {
     "data": {
      "image/png": "[encoded data removed]",
      "text/plain": [
       "<Figure size 1152x288 with 6 Axes>"
      ]
     },
     "metadata": {
      "needs_background": "light"
     },
     "output_type": "display_data"
    }
   ],
   "source": [
    "from skimage.transform import rescale\n",
    "\n",
    "fig, axes = plt.subplots(1, sign_img.shape[0], figsize=(16, 4))\n",
    "imgs = []\n",
    "for ax, im, nm in zip(axes.ravel(), sign_img[:,:,:,0], sign_names):\n",
    "    im = rescale(im, 40/1812, anti_aliasing=False)[:,:]\n",
    "    ax.imshow(im, cmap='gray')\n",
    "    print(im.shape)\n",
    "    ax.axis('off')\n",
    "    ax.set_title(nm)\n",
    "    imgs.append(im)"
   ]
  },
  {
   "cell_type": "code",
   "execution_count": 9,
   "metadata": {},
   "outputs": [
    {
     "name": "stdout",
     "output_type": "stream",
     "text": [
      "test target      :        [2, 3, 7, 7, 2, 3]\n",
      "test prediction  : tensor([2, 3, 7, 7, 2, 3])\n"
     ]
    }
   ],
   "source": [
    "test_im=torch.from_numpy(np.array(imgs).astype(np.float32)).reshape(6,1,40,40)\n",
    "output_test = model(test_im[0:6,:,:,:]).softmax(1)\n",
    "_, predicted_classe = torch.max(output_test, 1)\n",
    "print('test target      :        [2, 3, 7, 7, 2, 3]')\n",
    "print('test prediction  :', predicted_classe)\n",
    "b = output_test.detach().numpy()"
   ]
  },
  {
   "cell_type": "code",
   "execution_count": null,
   "metadata": {},
   "outputs": [],
   "source": []
  }
 ],
 "metadata": {
  "kernelspec": {
   "display_name": "Python 3",
   "language": "python",
   "name": "python3"
  },
  "language_info": {
   "codemirror_mode": {
    "name": "ipython",
    "version": 3
   },
   "file_extension": ".py",
   "mimetype": "text/x-python",
   "name": "python",
   "nbconvert_exporter": "python",
   "pygments_lexer": "ipython3",
   "version": "3.6.10"
  }
 },
 "nbformat": 4,
 "nbformat_minor": 2
}
